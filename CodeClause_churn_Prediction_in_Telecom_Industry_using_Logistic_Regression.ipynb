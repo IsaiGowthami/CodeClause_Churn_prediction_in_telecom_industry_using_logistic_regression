{
  "cells": [
    {
      "cell_type": "markdown",
      "metadata": {
        "id": "view-in-github",
        "colab_type": "text"
      },
      "source": [
        "<a href=\"https://colab.research.google.com/github/IsaiGowthami/CodeClause_Churn_prediction_in_telecom_industry_using_logistic_regression/blob/main/CodeClause_churn_Prediction_in_Telecom_Industry_using_Logistic_Regression.ipynb\" target=\"_parent\"><img src=\"https://colab.research.google.com/assets/colab-badge.svg\" alt=\"Open In Colab\"/></a>"
      ]
    },
    {
      "cell_type": "code",
      "source": [
        "!git clone https://github.com/IsaiGowthami/CodeClause_Churn_prediction_in_telecom_industry_using_logistic_regression.git\n",
        "%cd CodeClause_Churn_prediction_in_telecom_industry_using_logistic_regression"
      ],
      "metadata": {
        "id": "LfvlFeDEl7XD"
      },
      "id": "LfvlFeDEl7XD",
      "execution_count": null,
      "outputs": []
    },
    {
      "cell_type": "markdown",
      "id": "cbb5d3fd",
      "metadata": {
        "id": "cbb5d3fd"
      },
      "source": [
        "Importing libraries"
      ]
    },
    {
      "cell_type": "code",
      "execution_count": null,
      "id": "54901675",
      "metadata": {
        "id": "54901675"
      },
      "outputs": [],
      "source": [
        "import pandas as pd\n",
        "import numpy as np\n",
        "import seaborn as sns\n",
        "import matplotlib.pyplot as plt\n",
        "import matplotlib.ticker as mtick"
      ]
    },
    {
      "cell_type": "markdown",
      "source": [
        "Reading Data"
      ],
      "metadata": {
        "id": "jjUaIeyl37Nl"
      },
      "id": "jjUaIeyl37Nl"
    },
    {
      "cell_type": "code",
      "source": [
        "from google.colab import drive\n",
        "drive.mount('/content/drive')"
      ],
      "metadata": {
        "id": "mYSPN0euorlj",
        "colab": {
          "base_uri": "https://localhost:8080/"
        },
        "outputId": "301e9b9f-bc69-4821-cf42-35733b3c8ee1"
      },
      "execution_count": null,
      "outputs": [
        {
          "output_type": "stream",
          "name": "stdout",
          "text": [
            "Mounted at /content/drive\n"
          ]
        }
      ],
      "id": "mYSPN0euorlj"
    },
    {
      "cell_type": "code",
      "execution_count": null,
      "id": "dd86a4f0",
      "metadata": {
        "id": "dd86a4f0"
      },
      "outputs": [],
      "source": [
        "telecom_cust = pd.read_csv('/content/drive/MyDrive/Telcom-Customer-Churn.csv')"
      ]
    },
    {
      "cell_type": "markdown",
      "source": [
        "Checking the data which is uploaded in telecom_cust"
      ],
      "metadata": {
        "id": "tN63siSY4eDm"
      },
      "id": "tN63siSY4eDm"
    },
    {
      "cell_type": "code",
      "execution_count": null,
      "id": "6653afdd",
      "metadata": {
        "id": "6653afdd"
      },
      "outputs": [],
      "source": [
        "telecom_cust.head(10)"
      ]
    },
    {
      "cell_type": "code",
      "execution_count": null,
      "id": "43f5b1a3",
      "metadata": {
        "id": "43f5b1a3"
      },
      "outputs": [],
      "source": [
        "telecom_cust.columns.values"
      ]
    },
    {
      "cell_type": "markdown",
      "source": [
        "Checking the data types"
      ],
      "metadata": {
        "id": "0jt_7mEu4uBn"
      },
      "id": "0jt_7mEu4uBn"
    },
    {
      "cell_type": "code",
      "execution_count": null,
      "id": "f504706b",
      "metadata": {
        "id": "f504706b"
      },
      "outputs": [],
      "source": [
        "telecom_cust.dtypes"
      ]
    },
    {
      "cell_type": "markdown",
      "source": [
        "Converting Total Charges to a numerical data type."
      ],
      "metadata": {
        "id": "MGAmCCkL43qs"
      },
      "id": "MGAmCCkL43qs"
    },
    {
      "cell_type": "code",
      "execution_count": null,
      "id": "ac8d6a34",
      "metadata": {
        "id": "ac8d6a34"
      },
      "outputs": [],
      "source": [
        "telecom_cust.TotalCharges = pd.to_numeric(telecom_cust.TotalCharges, errors='coerce')\n",
        "telecom_cust.isnull().sum()"
      ]
    },
    {
      "cell_type": "code",
      "execution_count": null,
      "id": "488f094a",
      "metadata": {
        "id": "488f094a"
      },
      "outputs": [],
      "source": [
        "#Removing missing values \n",
        "telecom_cust.dropna(inplace = True)\n",
        "#Remove customer IDs from the data set\n",
        "df2 = telecom_cust.iloc[:,1:]\n",
        "#Convertin the predictor variable in a binary numeric variable\n",
        "df2['Churn'].replace(to_replace='Yes', value=1, inplace=True)\n",
        "df2['Churn'].replace(to_replace='No',  value=0, inplace=True)\n",
        "\n",
        "#Let's convert all the categorical variables into dummy variables\n",
        "df_dummies = pd.get_dummies(df2)\n",
        "df_dummies.head()"
      ]
    },
    {
      "cell_type": "code",
      "execution_count": null,
      "id": "bba0e6c5",
      "metadata": {
        "id": "bba0e6c5"
      },
      "outputs": [],
      "source": [
        "#Get Correlation of \"Churn\" with other variables:\n",
        "plt.figure(figsize=(15,8))\n",
        "df_dummies.corr()['Churn'].sort_values(ascending = False).plot(kind='bar')"
      ]
    },
    {
      "cell_type": "code",
      "execution_count": null,
      "id": "4fb594e3",
      "metadata": {
        "id": "4fb594e3"
      },
      "outputs": [],
      "source": [
        "colors = ['brown','pink']\n",
        "ax = (telecom_cust['gender'].value_counts()*100.0 /len(telecom_cust)).plot(kind='bar',\n",
        "                                                                           stacked = True,\n",
        "                                                                          rot = 0,\n",
        "                                                                          color = colors)\n",
        "ax.yaxis.set_major_formatter(mtick.PercentFormatter())\n",
        "ax.set_ylabel('% Customers')\n",
        "ax.set_xlabel('Gender')\n",
        "ax.set_ylabel('% Customers')\n",
        "ax.set_title('Gender Distribution')\n",
        "\n",
        "# create a list to collect the plt.patches data\n",
        "totals = []\n",
        "\n",
        "# find the values and append to list\n",
        "for i in ax.patches:\n",
        "    totals.append(i.get_width())\n",
        "\n",
        "# set individual bar lables using above list\n",
        "total = sum(totals)\n",
        "\n",
        "for i in ax.patches:\n",
        "    # get_width pulls left or right; get_y pushes up or down\n",
        "    ax.text(i.get_x()+.15, i.get_height()-3.5, \\\n",
        "            str(round((i.get_height()/total), 1))+'%',\n",
        "            fontsize=12,\n",
        "            color='white',\n",
        "           weight = 'bold')"
      ]
    },
    {
      "cell_type": "code",
      "execution_count": null,
      "id": "6473762d",
      "metadata": {
        "id": "6473762d"
      },
      "outputs": [],
      "source": [
        "ax = (telecom_cust['SeniorCitizen'].value_counts()*100.0 /len(telecom_cust))\\\n",
        ".plot.pie(autopct='%.1f%%', labels = ['No', 'Yes'],figsize =(5,5), fontsize = 12 )                                                                           \n",
        "ax.yaxis.set_major_formatter(mtick.PercentFormatter())\n",
        "ax.set_ylabel('Senior Citizens',fontsize = 12)\n",
        "ax.set_title('% of Senior Citizens', fontsize = 12)"
      ]
    },
    {
      "cell_type": "code",
      "execution_count": null,
      "id": "4f658da6",
      "metadata": {
        "id": "4f658da6"
      },
      "outputs": [],
      "source": [
        "df2 = pd.melt(telecom_cust, id_vars=['customerID'], value_vars=['Dependents','Partner'])\n",
        "df3 = df2.groupby(['variable','value']).count().unstack()\n",
        "df3 = df3*100/len(telecom_cust)\n",
        "colors = ['#4D3425','#E4512B']\n",
        "ax = df3.loc[:,'customerID'].plot.bar(stacked=True, color=colors,\n",
        "                                      figsize=(8,6),rot = 0,\n",
        "                                     width = 0.2)\n",
        "\n",
        "ax.yaxis.set_major_formatter(mtick.PercentFormatter())\n",
        "ax.set_ylabel('% Customers',size = 14)\n",
        "ax.set_xlabel('')\n",
        "ax.set_title('% Customers with dependents and partners',size = 14)\n",
        "ax.legend(loc = 'center',prop={'size':14})\n",
        "\n",
        "for p in ax.patches:\n",
        "    width, height = p.get_width(), p.get_height()\n",
        "    x, y = p.get_xy() \n",
        "    ax.annotate('{:.0f}%'.format(height), (p.get_x()+.25*width, p.get_y()+.4*height),\n",
        "                color = 'white',\n",
        "               weight = 'bold',\n",
        "               size = 14)\n"
      ]
    },
    {
      "cell_type": "code",
      "execution_count": null,
      "id": "c6a35690",
      "metadata": {
        "id": "c6a35690"
      },
      "outputs": [],
      "source": [
        "colors = ['#4D3425','#E4512B']\n",
        "partner_dependents = telecom_cust.groupby(['Partner','Dependents']).size().unstack()\n",
        "\n",
        "ax = (partner_dependents.T*100.0 / partner_dependents.T.sum()).T.plot(kind='bar',\n",
        "                                                                width = 0.2,\n",
        "                                                                stacked = True,\n",
        "                                                                rot = 0, \n",
        "                                                                figsize = (8,6),\n",
        "                                                                color = colors)\n",
        "ax.yaxis.set_major_formatter(mtick.PercentFormatter())\n",
        "ax.legend(loc='center',prop={'size':14},title = 'Dependents',fontsize =14)\n",
        "ax.set_ylabel('% Customers',size = 14)\n",
        "ax.set_title('% Customers with/without dependents based on whether they have a partner',size = 14)\n",
        "ax.xaxis.label.set_size(14)\n",
        "\n",
        "# Code to add the data labels on the stacked bar chart\n",
        "for p in ax.patches:\n",
        "    width, height = p.get_width(), p.get_height()\n",
        "    x, y = p.get_xy() \n",
        "    ax.annotate('{:.0f}%'.format(height), (p.get_x()+.25*width, p.get_y()+.4*height),\n",
        "                color = 'white',\n",
        "               weight = 'bold',\n",
        "               size = 14)"
      ]
    },
    {
      "cell_type": "code",
      "execution_count": null,
      "id": "e5c12b82",
      "metadata": {
        "id": "e5c12b82"
      },
      "outputs": [],
      "source": [
        "ax = sns.distplot(telecom_cust['tenure'], hist=True, kde=False, \n",
        "             bins=int(180/5), color = 'darkblue', \n",
        "             hist_kws={'edgecolor':'black'},\n",
        "             kde_kws={'linewidth': 4})\n",
        "ax.set_ylabel('# of Customers')\n",
        "ax.set_xlabel('Tenure (months)')\n",
        "ax.set_title('# of Customers by their tenure')"
      ]
    },
    {
      "cell_type": "code",
      "execution_count": null,
      "id": "b6397087",
      "metadata": {
        "id": "b6397087"
      },
      "outputs": [],
      "source": [
        "ax = telecom_cust['Contract'].value_counts().plot(kind = 'bar',rot = 0, width = 0.3)\n",
        "ax.set_ylabel('# of Customers')\n",
        "ax.set_title('# of Customers by Contract Type')"
      ]
    },
    {
      "cell_type": "code",
      "execution_count": null,
      "id": "c8e515a7",
      "metadata": {
        "id": "c8e515a7"
      },
      "outputs": [],
      "source": [
        "fig, (ax1,ax2,ax3) = plt.subplots(nrows=1, ncols=3, sharey = True, figsize = (20,6))\n",
        "\n",
        "ax = sns.distplot(telecom_cust[telecom_cust['Contract']=='Month-to-month']['tenure'],\n",
        "                   hist=True, kde=False,\n",
        "                   bins=int(180/5), color = 'turquoise',\n",
        "                   hist_kws={'edgecolor':'black'},\n",
        "                   kde_kws={'linewidth': 4},\n",
        "                 ax=ax1)\n",
        "ax.set_ylabel('# of Customers')\n",
        "ax.set_xlabel('Tenure (months)')\n",
        "ax.set_title('Month to Month Contract')\n",
        "\n",
        "ax = sns.distplot(telecom_cust[telecom_cust['Contract']=='One year']['tenure'],\n",
        "                   hist=True, kde=False,\n",
        "                   bins=int(180/5), color = 'steelblue',\n",
        "                   hist_kws={'edgecolor':'black'},\n",
        "                   kde_kws={'linewidth': 4},\n",
        "                 ax=ax2)\n",
        "ax.set_xlabel('Tenure (months)',size = 14)\n",
        "ax.set_title('One Year Contract',size = 14)\n",
        "\n",
        "ax = sns.distplot(telecom_cust[telecom_cust['Contract']=='Two year']['tenure'],\n",
        "                   hist=True, kde=False,\n",
        "                   bins=int(180/5), color = 'darkblue',\n",
        "                   hist_kws={'edgecolor':'black'},\n",
        "                   kde_kws={'linewidth': 4},\n",
        "                 ax=ax3)\n",
        "\n",
        "ax.set_xlabel('Tenure (months)')\n",
        "ax.set_title('Two Year Contract')"
      ]
    },
    {
      "cell_type": "markdown",
      "id": "48d08f13",
      "metadata": {
        "id": "48d08f13"
      },
      "source": [
        "#### Let us now look at the distribution of various services used by customers"
      ]
    },
    {
      "cell_type": "code",
      "execution_count": null,
      "id": "6bee4da5",
      "metadata": {
        "id": "6bee4da5"
      },
      "outputs": [],
      "source": [
        "telecom_cust.columns.values\n"
      ]
    },
    {
      "cell_type": "code",
      "execution_count": null,
      "id": "f4211c5e",
      "metadata": {
        "id": "f4211c5e"
      },
      "outputs": [],
      "source": [
        "services = ['PhoneService','MultipleLines','InternetService','OnlineSecurity',\n",
        "           'OnlineBackup','DeviceProtection','TechSupport','StreamingTV','StreamingMovies']\n",
        "\n",
        "fig, axes = plt.subplots(nrows = 3,ncols = 3,figsize = (15,12))\n",
        "for i, item in enumerate(services):\n",
        "    if i < 3:\n",
        "        ax = telecom_cust[item].value_counts().plot(kind = 'bar',ax=axes[i,0],rot = 0)\n",
        "        \n",
        "    elif i >=3 and i < 6:\n",
        "        ax = telecom_cust[item].value_counts().plot(kind = 'bar',ax=axes[i-3,1],rot = 0)\n",
        "        \n",
        "    elif i < 9:\n",
        "        ax = telecom_cust[item].value_counts().plot(kind = 'bar',ax=axes[i-6,2],rot = 0)\n",
        "    ax.set_title(item)"
      ]
    },
    {
      "cell_type": "code",
      "execution_count": null,
      "id": "7278f103",
      "metadata": {
        "id": "7278f103"
      },
      "outputs": [],
      "source": [
        "telecom_cust[['MonthlyCharges', 'TotalCharges']].plot.scatter(x = 'MonthlyCharges',\n",
        "                                                              y='TotalCharges')"
      ]
    },
    {
      "cell_type": "markdown",
      "id": "161e67e6",
      "metadata": {
        "id": "161e67e6"
      },
      "source": [
        "#### Finally, let's take a look at out predictor variable (Churn) and understand its interaction with other important variables as was found out in the correlation plot."
      ]
    },
    {
      "cell_type": "code",
      "execution_count": null,
      "id": "95208d05",
      "metadata": {
        "id": "95208d05"
      },
      "outputs": [],
      "source": [
        "colors = ['#4D3425','#E4512B']\n",
        "ax = (telecom_cust['Churn'].value_counts()*100.0 /len(telecom_cust)).plot(kind='bar',\n",
        "                                                                           stacked = True,\n",
        "                                                                          rot = 0,\n",
        "                                                                          color = colors,\n",
        "                                                                         figsize = (8,6))\n",
        "ax.yaxis.set_major_formatter(mtick.PercentFormatter())\n",
        "ax.set_ylabel('% Customers',size = 14)\n",
        "ax.set_xlabel('Churn',size = 14)\n",
        "ax.set_title('Churn Rate', size = 14)\n",
        "\n",
        "# create a list to collect the plt.patches data\n",
        "totals = []\n",
        "\n",
        "# find the values and append to list\n",
        "for i in ax.patches:\n",
        "    totals.append(i.get_width())\n",
        "\n",
        "# set individual bar lables using above list\n",
        "total = sum(totals)\n",
        "\n",
        "for i in ax.patches:\n",
        "    # get_width pulls left or right; get_y pushes up or down\n",
        "    ax.text(i.get_x()+.15, i.get_height()-4.0, \n",
        "            str(round((i.get_height()/total), 1))+'%',\n",
        "            \n",
        "            color='white',\n",
        "           weight = 'bold',\n",
        "           size = 14)"
      ]
    },
    {
      "cell_type": "markdown",
      "id": "9f1ccfef",
      "metadata": {
        "id": "9f1ccfef"
      },
      "source": [
        "#### Churn vs Tenure"
      ]
    },
    {
      "cell_type": "code",
      "execution_count": null,
      "id": "fb323a51",
      "metadata": {
        "id": "fb323a51"
      },
      "outputs": [],
      "source": [
        "sns.boxplot(x = telecom_cust.Churn, y = telecom_cust.tenure)"
      ]
    },
    {
      "cell_type": "markdown",
      "id": "b806455b",
      "metadata": {
        "id": "b806455b"
      },
      "source": [
        "#### Churn by Contract Type"
      ]
    },
    {
      "cell_type": "code",
      "execution_count": null,
      "id": "4c1bea39",
      "metadata": {
        "id": "4c1bea39"
      },
      "outputs": [],
      "source": [
        "colors = ['#4D3425','#E4512B']\n",
        "contract_churn = telecom_cust.groupby(['Contract','Churn']).size().unstack()\n",
        "\n",
        "ax = (contract_churn.T*100.0 / contract_churn.T.sum()).T.plot(kind='bar',\n",
        "                                                                width = 0.3,\n",
        "                                                                stacked = True,\n",
        "                                                                rot = 0, \n",
        "                                                                figsize = (10,6),\n",
        "                                                                color = colors)\n",
        "ax.yaxis.set_major_formatter(mtick.PercentFormatter())\n",
        "ax.legend(loc='best',prop={'size':14},title = 'Churn')\n",
        "ax.set_ylabel('% Customers',size = 14)\n",
        "ax.set_title('Churn by Contract Type',size = 14)\n",
        "\n",
        "# Code to add the data labels on the stacked bar chart\n",
        "for p in ax.patches:\n",
        "    width, height = p.get_width(), p.get_height()\n",
        "    x, y = p.get_xy() \n",
        "    ax.annotate('{:.0f}%'.format(height), (p.get_x()+.25*width, p.get_y()+.4*height),\n",
        "                color = 'white',\n",
        "               weight = 'bold',\n",
        "               size = 14)"
      ]
    },
    {
      "cell_type": "markdown",
      "id": "a1dc94de",
      "metadata": {
        "id": "a1dc94de"
      },
      "source": [
        "#### Churn by Seniority"
      ]
    },
    {
      "cell_type": "code",
      "execution_count": null,
      "id": "baa2f977",
      "metadata": {
        "id": "baa2f977"
      },
      "outputs": [],
      "source": [
        "colors = ['#4D3425','#E4512B']\n",
        "seniority_churn = telecom_cust.groupby(['SeniorCitizen','Churn']).size().unstack()\n",
        "\n",
        "ax = (seniority_churn.T*100.0 / seniority_churn.T.sum()).T.plot(kind='bar',\n",
        "                                                                width = 0.2,\n",
        "                                                                stacked = True,\n",
        "                                                                rot = 0, \n",
        "                                                                figsize = (8,6),\n",
        "                                                                color = colors)\n",
        "ax.yaxis.set_major_formatter(mtick.PercentFormatter())\n",
        "ax.legend(loc='center',prop={'size':14},title = 'Churn')\n",
        "ax.set_ylabel('% Customers')\n",
        "ax.set_title('Churn by Seniority Level',size = 14)\n",
        "\n",
        "# Code to add the data labels on the stacked bar chart\n",
        "for p in ax.patches:\n",
        "    width, height = p.get_width(), p.get_height()\n",
        "    x, y = p.get_xy() \n",
        "    ax.annotate('{:.0f}%'.format(height), (p.get_x()+.25*width, p.get_y()+.4*height),\n",
        "                color = 'white',\n",
        "               weight = 'bold',size =14)"
      ]
    },
    {
      "cell_type": "markdown",
      "id": "ce9bd473",
      "metadata": {
        "id": "ce9bd473"
      },
      "source": [
        "#### Churn by Monthly Charges"
      ]
    },
    {
      "cell_type": "code",
      "execution_count": null,
      "id": "b7e4135c",
      "metadata": {
        "id": "b7e4135c"
      },
      "outputs": [],
      "source": [
        "ax = sns.kdeplot(telecom_cust.MonthlyCharges[(telecom_cust[\"Churn\"] == 'No') ],\n",
        "                color=\"Red\", fill = True)\n",
        "ax = sns.kdeplot(telecom_cust.MonthlyCharges[(telecom_cust[\"Churn\"] == 'Yes') ],\n",
        "                ax =ax, color=\"Blue\", fill= True)\n",
        "ax.legend([\"Not Churn\",\"Churn\"],loc='upper right')\n",
        "ax.set_ylabel('Density')\n",
        "ax.set_xlabel('Monthly Charges')\n",
        "ax.set_title('Distribution of monthly charges by churn')"
      ]
    },
    {
      "cell_type": "markdown",
      "id": "7db9dccc",
      "metadata": {
        "id": "7db9dccc"
      },
      "source": [
        "#### Churn by Total Charges"
      ]
    },
    {
      "cell_type": "code",
      "execution_count": null,
      "id": "bbf4e391",
      "metadata": {
        "id": "bbf4e391"
      },
      "outputs": [],
      "source": [
        "ax = sns.kdeplot(telecom_cust.TotalCharges[(telecom_cust[\"Churn\"] == 'No') ],\n",
        "                color=\"Red\", fill = True)\n",
        "ax = sns.kdeplot(telecom_cust.TotalCharges[(telecom_cust[\"Churn\"] == 'Yes') ],\n",
        "                ax =ax, color=\"Blue\", fill= True)\n",
        "ax.legend([\"Not Churn\",\"Churn\"],loc='upper right')\n",
        "ax.set_ylabel('Density')\n",
        "ax.set_xlabel('Total Charges')\n",
        "ax.set_title('Distribution of total charges by churn')"
      ]
    },
    {
      "cell_type": "markdown",
      "id": "ea4e139d",
      "metadata": {
        "id": "ea4e139d"
      },
      "source": [
        "## After going through the above EDA we wil develop some predictive models and compare them.\n",
        "#### We will develop Logistic Regression, Random Forest, SVM, ADA Boost, XG Boost"
      ]
    },
    {
      "cell_type": "markdown",
      "id": "610b06cc",
      "metadata": {
        "id": "610b06cc"
      },
      "source": [
        "#### 1.Logistic Regresion"
      ]
    },
    {
      "cell_type": "code",
      "execution_count": null,
      "id": "09aa05af",
      "metadata": {
        "id": "09aa05af"
      },
      "outputs": [],
      "source": [
        "y = df_dummies['Churn'].values\n",
        "X = df_dummies.drop(columns = ['Churn'])\n",
        "\n",
        "# Scaling all the variables to a range of 0 to 1\n",
        "from sklearn.preprocessing import MinMaxScaler\n",
        "features = X.columns.values\n",
        "scaler = MinMaxScaler(feature_range = (0,1))\n",
        "scaler.fit(X)\n",
        "X = pd.DataFrame(scaler.transform(X))\n",
        "X.columns = features"
      ]
    },
    {
      "cell_type": "code",
      "execution_count": null,
      "id": "661f8488",
      "metadata": {
        "id": "661f8488"
      },
      "outputs": [],
      "source": [
        "# Create Train & Test Data\n",
        "from sklearn.model_selection import train_test_split\n",
        "X_train, X_test, y_train, y_test = train_test_split(X, y, test_size=0.3, random_state=101)"
      ]
    },
    {
      "cell_type": "code",
      "execution_count": null,
      "id": "e25fa34b",
      "metadata": {
        "id": "e25fa34b"
      },
      "outputs": [],
      "source": [
        "# Running logistic regression model\n",
        "from sklearn.linear_model import LogisticRegression\n",
        "model = LogisticRegression()\n",
        "result = model.fit(X_train, y_train)"
      ]
    },
    {
      "cell_type": "code",
      "execution_count": null,
      "id": "cddbc8d6",
      "metadata": {
        "id": "cddbc8d6"
      },
      "outputs": [],
      "source": [
        "from sklearn import metrics\n",
        "prediction_test = model.predict(X_test)\n",
        "# Print the prediction accuracy\n",
        "print (metrics.accuracy_score(y_test, prediction_test))"
      ]
    },
    {
      "cell_type": "code",
      "execution_count": null,
      "id": "8c9136e7",
      "metadata": {
        "id": "8c9136e7"
      },
      "outputs": [],
      "source": [
        "# To get the weights of all the variables\n",
        "weights = pd.Series(model.coef_[0],\n",
        "                 index=X.columns.values)\n",
        "print (weights.sort_values(ascending = False)[:10].plot(kind='bar'))"
      ]
    },
    {
      "cell_type": "code",
      "execution_count": null,
      "id": "c8794a0c",
      "metadata": {
        "id": "c8794a0c"
      },
      "outputs": [],
      "source": [
        "print(weights.sort_values(ascending = False)[-10:].plot(kind='bar'))"
      ]
    },
    {
      "cell_type": "markdown",
      "id": "cc135989",
      "metadata": {
        "id": "cc135989"
      },
      "source": [
        "#### Observtions"
      ]
    },
    {
      "cell_type": "markdown",
      "id": "1ccbc7c4",
      "metadata": {
        "id": "1ccbc7c4"
      },
      "source": [
        "We can see that some variables have a negative relation to our predicted variable (Churn), while some have positive relation. Negative relation means that likeliness of churn decreases with that variable. Let us summarize some of the interesting features below:\n",
        "\n",
        "As we saw in our EDA, having a 2 month contract reduces chances of churn. 2 month contract along with tenure have the most negative relation with Churn as predicted by logistic regressions\n",
        "\n",
        "Having DSL internet service also reduces the proability of Churn\n",
        "\n",
        "Lastly, total charges, monthly contracts, fibre optic internet services and seniority can lead to higher churn rates. This is interesting because although fibre optic services are faster, customers are likely to churn because of it. I think we need to explore more to better understad why this is happening.\n",
        "\n",
        "Any hypothesis on the above would be really helpful!"
      ]
    },
    {
      "cell_type": "markdown",
      "id": "e259c393",
      "metadata": {
        "id": "e259c393"
      },
      "source": [
        "#### 2.Random forest"
      ]
    },
    {
      "cell_type": "code",
      "execution_count": null,
      "id": "6e731394",
      "metadata": {
        "id": "6e731394"
      },
      "outputs": [],
      "source": [
        "from sklearn.ensemble import RandomForestClassifier\n",
        "X_train, X_test, y_train, y_test = train_test_split(X, y, test_size=0.2, random_state=101)\n",
        "model_rf = RandomForestClassifier(n_estimators=1000 , oob_score = True, n_jobs = -1,\n",
        "                                  random_state =50, \n",
        "                                  max_leaf_nodes = 30)\n",
        "model_rf.fit(X_train, y_train)\n",
        "\n",
        "# Make predictions\n",
        "prediction_test = model_rf.predict(X_test)\n",
        "print (metrics.accuracy_score(y_test, prediction_test))"
      ]
    },
    {
      "cell_type": "code",
      "execution_count": null,
      "id": "d3e351a9",
      "metadata": {
        "id": "d3e351a9"
      },
      "outputs": [],
      "source": [
        "importances = model_rf.feature_importances_\n",
        "weights = pd.Series(importances,\n",
        "                 index=X.columns.values)\n",
        "weights.sort_values()[-10:].plot(kind = 'barh')"
      ]
    },
    {
      "cell_type": "markdown",
      "id": "dd90b88f",
      "metadata": {
        "id": "dd90b88f"
      },
      "source": [
        "#### Observations:"
      ]
    },
    {
      "cell_type": "markdown",
      "id": "72a4e892",
      "metadata": {
        "id": "72a4e892"
      },
      "source": [
        "From random forest algorithm, monthly contract, tenure and total charges are the most important predictor variables to predict churn.\n",
        "\n",
        "The results from random forest are very similar to that of the logistic regression and in line to what we had expected from our EDA"
      ]
    },
    {
      "cell_type": "markdown",
      "id": "ca90ec72",
      "metadata": {
        "id": "ca90ec72"
      },
      "source": [
        "#### 3. Support Vecor Machine (SVM)"
      ]
    },
    {
      "cell_type": "code",
      "execution_count": null,
      "id": "cbc5b09d",
      "metadata": {
        "id": "cbc5b09d"
      },
      "outputs": [],
      "source": [
        "X_train, X_test, y_train, y_test = train_test_split(X, y, test_size=0.2, random_state=99)"
      ]
    },
    {
      "cell_type": "code",
      "execution_count": null,
      "id": "c616272e",
      "metadata": {
        "id": "c616272e"
      },
      "outputs": [],
      "source": [
        "from sklearn.svm import SVC\n",
        "\n",
        "model.svm = SVC(kernel='linear') \n",
        "model.svm.fit(X_train,y_train)\n",
        "preds = model.svm.predict(X_test)\n",
        "metrics.accuracy_score(y_test, preds)"
      ]
    },
    {
      "cell_type": "code",
      "execution_count": null,
      "id": "fddf3e35",
      "metadata": {
        "id": "fddf3e35"
      },
      "outputs": [],
      "source": [
        "# Create the Confusion matrix\n",
        "from sklearn.metrics import classification_report, confusion_matrix  \n",
        "print(confusion_matrix(y_test,preds)) "
      ]
    },
    {
      "cell_type": "markdown",
      "id": "509bf9ed",
      "metadata": {
        "id": "509bf9ed"
      },
      "source": [
        "Wth SVM I was able to increase the accuracy to upto 82%. However, we need to take a deeper look at the true positive and true negative rates, including the Area Under the Curve (AUC) for a better prediction. I will explore this soon. Stay Tuned!"
      ]
    },
    {
      "cell_type": "code",
      "execution_count": null,
      "id": "d39a1ce5",
      "metadata": {
        "id": "d39a1ce5"
      },
      "outputs": [],
      "source": [
        "ax1 = sns.catplot(x=\"gender\", kind=\"count\", hue=\"Churn\", data=telecom_cust,\n",
        "                  estimator=lambda x: sum(x==0)*100.0/len(x))\n",
        "#ax1.yaxis.set_major_formatter(mtick.PercentFormatter())"
      ]
    },
    {
      "cell_type": "markdown",
      "id": "db4a34a7",
      "metadata": {
        "id": "db4a34a7"
      },
      "source": [
        "#### 4. ADA Boost"
      ]
    },
    {
      "cell_type": "code",
      "execution_count": null,
      "id": "d46b16c0",
      "metadata": {
        "id": "d46b16c0"
      },
      "outputs": [],
      "source": [
        "# AdaBoost Algorithm\n",
        "from sklearn.ensemble import AdaBoostClassifier\n",
        "model = AdaBoostClassifier()\n",
        "# n_estimators = 50 (default value) \n",
        "# base_estimator = DecisionTreeClassifier (default value)\n",
        "model.fit(X_train,y_train)\n",
        "preds = model.predict(X_test)\n",
        "metrics.accuracy_score(y_test, preds)"
      ]
    },
    {
      "cell_type": "markdown",
      "id": "ff3ab15d",
      "metadata": {
        "id": "ff3ab15d"
      },
      "source": [
        "#### 5. XG Boost"
      ]
    },
    {
      "cell_type": "code",
      "execution_count": null,
      "id": "bec2c527",
      "metadata": {
        "id": "bec2c527"
      },
      "outputs": [],
      "source": [
        "from xgboost import XGBClassifier\n",
        "model = XGBClassifier()\n",
        "model.fit(X_train, y_train)\n",
        "preds = model.predict(X_test)\n",
        "metrics.accuracy_score(y_test, preds)"
      ]
    },
    {
      "cell_type": "markdown",
      "id": "d8482c28",
      "metadata": {
        "id": "d8482c28"
      },
      "source": [
        "Interestingly with XG Boost I was able to increase the accuracy on test data to almost 83%. Clearly, XG Boost is a winner among all other techniques. XG Boost is a slow learning model and is based on the concept of Boosting"
      ]
    }
  ],
  "metadata": {
    "kernelspec": {
      "display_name": "Python 3 (ipykernel)",
      "language": "python",
      "name": "python3"
    },
    "language_info": {
      "codemirror_mode": {
        "name": "ipython",
        "version": 3
      },
      "file_extension": ".py",
      "mimetype": "text/x-python",
      "name": "python",
      "nbconvert_exporter": "python",
      "pygments_lexer": "ipython3",
      "version": "3.9.13"
    },
    "colab": {
      "provenance": [],
      "include_colab_link": true
    }
  },
  "nbformat": 4,
  "nbformat_minor": 5
}